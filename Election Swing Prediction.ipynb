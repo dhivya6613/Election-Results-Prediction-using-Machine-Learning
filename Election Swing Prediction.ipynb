{
 "cells": [
  {
   "cell_type": "code",
   "execution_count": 18,
   "metadata": {},
   "outputs": [],
   "source": [
    "import pandas as pd\n",
    "from collections import defaultdict\n",
    "#df = pd.read_csv(\"election-results-csv/LS2009Candidate.csv\")\n",
    "df = pd.read_csv(\"election-results-csv/LS2014Candidate.csv\")"
   ]
  },
  {
   "cell_type": "code",
   "execution_count": 19,
   "metadata": {},
   "outputs": [
    {
     "data": {
      "text/plain": [
       "'No swings'"
      ]
     },
     "execution_count": 19,
     "metadata": {},
     "output_type": "execute_result"
    }
   ],
   "source": [
    "\"\"\"Coalitions in 2014\"\"\"\n",
    "#NDACoalition = [\"BJP\",\"SHS\",\"TDP\",\"LJP\",\"SAD\",\"BLSP\",\"SWP\",\"AD\",\"PMK\",\"AINRC\",\"NPF\",\"NPEP\"]\n",
    "#UPACoalition = [\"INC\",\"NCP\",\"RJD\",\"IUML\",\"JMM\",\"KEC(M)\",\"RSP\"]\n",
    "\n",
    "\"\"\"If BJP and INC were alone\"\"\"\n",
    "#NDACoalition = [\"BJP\"]\n",
    "#UPACoalition = [\"INC\"]\n",
    "\n",
    "\"\"\"Expected Coalitions in 2019\"\"\" \n",
    "NDACoalition = [\"BJP\", \"SHS\",\"JD(U)\",\"LJP\",\"NPF\",\"SAD\",\"BLSP\", \"SWP\",\"PMK\",\"NPEP\",\"AINRC\",\"ADMK\", \"AGP\"]\n",
    "UPACoalition = [\"INC\", \"AD\", \"RJD\",\"NCP\", \"DMK\",\"IUML\",\"JD(S)\",\"JKN\",\"JMM\",\"KEC(M)\",\"RSP\",\"BOPF\"]\n",
    "\n",
    "\"\"\"In percent. Incumbent swings are likelier to be lesser, as people want change.\"\"\"\n",
    "ndaSwingIncumbent = 93\n",
    "ndaSwingNotIncumbent = 97\n",
    "upaSwingIncumbent = 103\n",
    "upaSwingNotIncumbent = 107\n",
    "\n",
    "\"\"\"No swings\"\"\"\n",
    "#ndaSwingIncumbent = 100\n",
    "#ndaSwingNotIncumbent = 100\n",
    "#upaSwingIncumbent = 100\n",
    "#upaSwingNotIncumbent = 100\n"
   ]
  },
  {
   "cell_type": "code",
   "execution_count": 20,
   "metadata": {},
   "outputs": [],
   "source": [
    "#totalVotesCount = df.loc[(df['Party Abbreviation'].isin(UPACoalition+NDACoalition)), ['Total Votes Polled']].sum()\n",
    "totalVotesCount = 0\n",
    "totalNdaVotesCount = 0\n",
    "totalUpaVotesCount = 0\n",
    "totalMgbVotesCount = 0"
   ]
  },
  {
   "cell_type": "code",
   "execution_count": 21,
   "metadata": {},
   "outputs": [],
   "source": [
    "firstNDA = df.loc[(df['Party Abbreviation'].isin(NDACoalition)) & (df['Position'] == 1)]\n",
    "firstUPA = df.loc[(df['Party Abbreviation'].isin(UPACoalition)) & (df['Position'] == 1)]\n",
    "#firstOther = df.loc[~(df['Party Abbreviation'].isin(UPACoalition+NDACoalition)) & (df['Position'] == 1)]"
   ]
  },
  {
   "cell_type": "code",
   "execution_count": null,
   "metadata": {},
   "outputs": [],
   "source": [
    "\"\"\" PROTOTYPE FOR UTTAR PRADESH\n",
    "firstBJPInUP = df.loc[(df['Party Abbreviation'] == \"BJP\") & (df['Position'] == 1) & (df['State name'] == 'Uttar Pradesh')]\n",
    "c = 0\n",
    "numberOfSeatsLost = 0\n",
    "numberOfSeatsWon = 0\n",
    "\n",
    "totalBjpVotes = 0\n",
    "totalCoalitionVotes = 0\n",
    "totalVotes = 0\n",
    "\n",
    "for constIndex, constRow in firstBJPInUP.iterrows():\n",
    "    selected = df.loc[(df[\"ST_CODE\"] == constRow[\"ST_CODE\"]) & (df[\"PC Number\"] == constRow[\"PC Number\"])]\n",
    "    coalitionVotes = 0\n",
    "    bjpVotes = 0\n",
    "    \n",
    "    for index,row in selected.iterrows():\n",
    "        totalVotes += row['Total Votes Polled']\n",
    "        if (row['Party Abbreviation'] in [\"SP\",\"BSP\",\"INC\",\"RLD\"]):\n",
    "            coalitionVotes += row['Total Votes Polled']\n",
    "        if (row['Party Abbreviation'] == 'BJP'):\n",
    "            bjpVotes += row['Total Votes Polled']\n",
    "    totalBjpVotes += bjpVotes\n",
    "    totalCoalitionVotes += coalitionVotes\n",
    "    \n",
    "    if (bjpVotes < coalitionVotes):  \n",
    "        numberOfSeatsLost += 1\n",
    "        margin = coalitionVotes-bjpVotes\n",
    "        #print(\"BJP LOSES THE SEAT: \"+constRow[\"PC name\"]+ \" Margin: \"+str(margin)+\" votes\") \n",
    "    else:\n",
    "        numberOfSeatsWon += 1\n",
    "        margin = bjpVotes-coalitionVotes\n",
    "        #print(\"BJP STILL WINS THE SEAT: \"+constRow[\"PC name\"]+ \" Margin: \"+str(margin)+\" votes\") \n",
    "        \n",
    "print(\"Lost: \" + str(numberOfSeatsLost)+\" Won: \"+str(numberOfSeatsWon))\n",
    "bjpVoteShare = totalBjpVotes/totalVotes*100\n",
    "coalitionVoteShare = totalCoalitionVotes/totalVotes*100\n",
    "print(\"Vote Share\\nBJP: \"+str(bjpVoteShare)+\"% INC/SP/BSP/RLD: \"+str(coalitionVoteShare)+\"%\")\n",
    "\"\"\"\n",
    "        "
   ]
  },
  {
   "cell_type": "code",
   "execution_count": 25,
   "metadata": {
    "scrolled": false
   },
   "outputs": [
    {
     "name": "stdout",
     "output_type": "stream",
     "text": [
      "FROM NDA SEATS (309):\n",
      "Won by UPA: 25 \n",
      "Won by Others: 48 \n",
      "Still Won by NDA: 284\n",
      "\n",
      "\n",
      "TOTAL WON BY NDA IN 2014 REALITY\n",
      "defaultdict(<class 'int'>, {'Andhra Pradesh': 3, 'Arunachal Pradesh': 1, 'Assam': 7, 'Bihar': 33, 'Goa': 2, 'Gujarat': 26, 'Haryana': 7, 'Himachal Pradesh': 4, 'Jammu & Kashmir': 3, 'Karnataka': 17, 'Madhya Pradesh': 27, 'Maharashtra': 42, 'Meghalaya': 1, 'Nagaland': 1, 'Odisha': 1, 'Punjab': 6, 'Rajasthan': 25, 'Tamil Nadu': 39, 'Uttar Pradesh': 71, 'West Bengal': 2, 'Chattisgarh': 10, 'Jharkhand': 12, 'Uttarakhand': 5, 'Andaman & Nicobar Islands': 1, 'Chandigarh': 1, 'Dadra & Nagar Haveli': 1, 'Daman & Diu': 1, 'NCT OF Delhi': 7, 'Puducherry': 1})\n",
      "\n",
      "\n",
      "WON BY UPA FROM NDA SEATS IN 2014 AFTER COALITION\n",
      "defaultdict(<class 'int'>, {'Assam': 1, 'Gujarat': 1, 'Himachal Pradesh': 1, 'Jammu & Kashmir': 1, 'Karnataka': 6, 'Madhya Pradesh': 2, 'Maharashtra': 1, 'Punjab': 3, 'Rajasthan': 1, 'Tamil Nadu': 2, 'Chattisgarh': 3, 'Jharkhand': 1, 'Andaman & Nicobar Islands': 1, 'Dadra & Nagar Haveli': 1})\n",
      "\n",
      "\n",
      "WON BY NDA FROM NDA SEATS IN 2014 AFTER COALITION\n",
      "defaultdict(<class 'int'>, {'Andhra Pradesh': 3, 'Arunachal Pradesh': 1, 'Assam': 6, 'Bihar': 33, 'Goa': 2, 'Gujarat': 25, 'Haryana': 5, 'Himachal Pradesh': 3, 'Jammu & Kashmir': 2, 'Karnataka': 11, 'Madhya Pradesh': 25, 'Maharashtra': 41, 'Meghalaya': 1, 'Nagaland': 1, 'Punjab': 2, 'Rajasthan': 24, 'Tamil Nadu': 37, 'Uttar Pradesh': 27, 'West Bengal': 2, 'Chattisgarh': 7, 'Jharkhand': 11, 'Uttarakhand': 5, 'Chandigarh': 1, 'Daman & Diu': 1, 'NCT OF Delhi': 7, 'Puducherry': 1})\n",
      "\n",
      "\n"
     ]
    }
   ],
   "source": [
    "c = 0\n",
    "upaSeatsFromNDA2014 = 0\n",
    "ndaSeatsFromNDA2014 = 0\n",
    "\n",
    "nda2014SeatsStatewise=defaultdict(int); #where NDA was first in 2014\n",
    "ndaSeatsStatewiseFromNDA2014=defaultdict(int); #after grand colition ndaSeats\n",
    "upaSeatsStatewiseFromNDA2014=defaultdict(int); #after grand coalition upaSeats\n",
    "\n",
    "for constIndex, constRow in firstNDA.iterrows():\n",
    "    nda2014SeatsStatewise[constRow[\"State name\"]] += 1;\n",
    "    selected = df.loc[(df[\"ST_CODE\"] == constRow[\"ST_CODE\"]) & (df[\"PC Number\"] == constRow[\"PC Number\"])]\n",
    "    upaVotes = 0;\n",
    "    ndaVotes = 0;\n",
    "    for index,row in selected.iterrows():\n",
    "        totalVotesCount += row['Total Votes Polled']\n",
    "        if (row['Party Abbreviation'] in UPACoalition):\n",
    "            upaVotes += (upaSwingNotIncumbent/100)*row['Total Votes Polled']\n",
    "        if (row['Party Abbreviation'] in NDACoalition):\n",
    "            ndaVotes += (ndaSwingIncumbent/100)*row['Total Votes Polled']\n",
    "    totalNdaVotesCount += ndaVotes \n",
    "    totalUpaVotesCount += upaVotes\n",
    "    if (ndaVotes > upaVotes):  \n",
    "        ndaSeatsFromNDA2014 += 1\n",
    "        margin = ndaVotes-upaVotes\n",
    "        ndaSeatsStatewiseFromNDA2014[constRow[\"State name\"]] += 1;\n",
    "    else:\n",
    "        ndaSeatsFromUPA2014 += 1\n",
    "        margin = upaVotes-ndaVotes\n",
    "        ndaSeatsStatewiseFromUPA2014[constRow[\"State name\"]] += 1;\n",
    "\n",
    "totalNDASeats2014 = upaSeatsFromNDA2014+ndaSeatsFromNDA2014      \n",
    "print(\"FROM NDA SEATS (\"+str(totalNDASeats2014)+\"):\\nWon by UPA: \" + str(upaSeatsFromNDA2014)+\" \\nWon by Others: \" + str(mgbSeatsFromNDA2014)+\" \\nStill Won by NDA: \"+str(ndaSeatsFromNDA2014))\n",
    "\n",
    "print('\\n')\n",
    "print(\"TOTAL WON BY NDA IN 2014 REALITY\")\n",
    "print(nda2014SeatsStatewise)\n",
    "print('\\n')\n",
    "\n",
    "print(\"WON BY UPA FROM NDA SEATS IN 2014 AFTER COALITION\")\n",
    "print(upaSeatsStatewiseFromNDA2014)\n",
    "print('\\n') \n",
    "\n",
    "print(\"WON BY NDA FROM NDA SEATS IN 2014 AFTER COALITION\")\n",
    "print(ndaSeatsStatewiseFromNDA2014)\n",
    "print('\\n')\n",
    "\n",
    "   \n",
    "        "
   ]
  },
  {
   "cell_type": "code",
   "execution_count": 11,
   "metadata": {
    "scrolled": true
   },
   "outputs": [
    {
     "name": "stdout",
     "output_type": "stream",
     "text": [
      "FROM UPA SEATS (64):\n",
      "Won by NDA: 4 \n",
      "Still Won by UPA: 60\n",
      "\n",
      "\n",
      "TOTAL WON BY UPA IN 2014 REALITY\n",
      "defaultdict(<class 'int'>, {'Andhra Pradesh': 2, 'Arunachal Pradesh': 1, 'Assam': 3, 'Bihar': 7, 'Haryana': 1, 'Karnataka': 11, 'Kerala': 12, 'Madhya Pradesh': 2, 'Maharashtra': 6, 'Manipur': 2, 'Meghalaya': 1, 'Mizoram': 1, 'Punjab': 3, 'Uttar Pradesh': 4, 'West Bengal': 4, 'Chattisgarh': 1, 'Jharkhand': 2, 'Lakshadweep': 1})\n",
      "\n",
      "\n",
      "WON BY NDA FROM UPA SEATS IN 2014 AFTER COALITION\n",
      "defaultdict(<class 'int'>, {'Bihar': 4})\n",
      "\n",
      "\n",
      "WON BY UPA FROM UPA SEATS IN 2014 AFTER COALITION\n",
      "defaultdict(<class 'int'>, {'Andhra Pradesh': 2, 'Arunachal Pradesh': 1, 'Assam': 3, 'Bihar': 3, 'Haryana': 1, 'Karnataka': 11, 'Kerala': 12, 'Madhya Pradesh': 2, 'Maharashtra': 6, 'Manipur': 2, 'Meghalaya': 1, 'Mizoram': 1, 'Punjab': 3, 'Uttar Pradesh': 4, 'West Bengal': 4, 'Chattisgarh': 1, 'Jharkhand': 2, 'Lakshadweep': 1})\n",
      "\n",
      "\n"
     ]
    }
   ],
   "source": [
    "c = 0\n",
    "upaSeatsFromUPA2014 = 0;\n",
    "ndaSeatsFromUPA2014 = 0;\n",
    "\n",
    "upa2014SeatsStatewise=defaultdict(int); #where UPA was first in 2014\n",
    "ndaSeatsStatewiseFromUPA2014=defaultdict(int); #after grand colition ndaSeats\n",
    "upaSeatsStatewiseFromUPA2014=defaultdict(int); #after grand coalition upaSeats\n",
    "\n",
    "for constIndex, constRow in firstUPA.iterrows():\n",
    "    upa2014SeatsStatewise[constRow[\"State name\"]] += 1;\n",
    "    selected = df.loc[(df[\"ST_CODE\"] == constRow[\"ST_CODE\"]) & (df[\"PC Number\"] == constRow[\"PC Number\"])]\n",
    "    upaVotes = 0;\n",
    "    ndaVotes = 0;\n",
    "    for index,row in selected.iterrows():\n",
    "        totalVotesCount += row['Total Votes Polled']\n",
    "        if (row['Party Abbreviation'] in UPACoalition):\n",
    "            upaVotes += (upaSwingIncumbent/100)*row['Total Votes Polled']\n",
    "        if (row['Party Abbreviation'] in NDACoalition):\n",
    "            ndaVotes += (ndaSwingNotIncumbent/100)*row['Total Votes Polled']\n",
    "    totalNdaVotesCount += ndaVotes \n",
    "    totalUpaVotesCount += upaVotes         \n",
    "    if (upaVotes > ndaVotes):  \n",
    "        upaSeatsFromUPA2014 += 1\n",
    "        margin = upaVotes-ndaVotes\n",
    "        upaSeatsStatewiseFromUPA2014[constRow[\"State name\"]] += 1;\n",
    "    else:\n",
    "        ndaSeatsFromUPA2014 += 1\n",
    "        margin = ndaVotes-upaVotes\n",
    "        ndaSeatsStatewiseFromUPA2014[constRow[\"State name\"]] += 1;\n",
    "\n",
    "totalUPASeats2014 = upaSeatsFromUPA2014+ndaSeatsFromUPA2014\n",
    "print(\"FROM UPA SEATS (\"+str(totalUPASeats2014)+\"):\\nWon by NDA: \" + str(ndaSeatsFromUPA2014)+\" \\nStill Won by UPA: \"+str(upaSeatsFromUPA2014))\n",
    "\n",
    "print('\\n')\n",
    "print(\"TOTAL WON BY UPA IN 2014 REALITY\")\n",
    "print(upa2014SeatsStatewise)\n",
    "print('\\n')\n",
    "\n",
    "print(\"WON BY NDA FROM UPA SEATS IN 2014 AFTER COALITION\")\n",
    "print(ndaSeatsStatewiseFromUPA2014)\n",
    "print('\\n') \n",
    "\n",
    "print(\"WON BY UPA FROM UPA SEATS IN 2014 AFTER COALITION\")\n",
    "print(upaSeatsStatewiseFromUPA2014)\n",
    "print('\\n')\n",
    "\n"
   ]
  },
  {
   "cell_type": "code",
   "execution_count": 9,
   "metadata": {},
   "outputs": [
    {
     "name": "stdout",
     "output_type": "stream",
     "text": [
      "TOTAL SEATS (421):\n",
      "defaultdict(<class 'int'>, {'Andhra Pradesh': 5, 'Arunachal Pradesh': 2, 'Assam': 10, 'Bihar': 40, 'Haryana': 8, 'Karnataka': 28, 'Kerala': 12, 'Madhya Pradesh': 29, 'Maharashtra': 48, 'Manipur': 2, 'Meghalaya': 2, 'Mizoram': 1, 'Punjab': 9, 'Uttar Pradesh': 75, 'West Bengal': 6, 'Chattisgarh': 11, 'Jharkhand': 14, 'Lakshadweep': 1, 'Goa': 2, 'Gujarat': 26, 'Himachal Pradesh': 4, 'Jammu & Kashmir': 3, 'Nagaland': 1, 'Odisha': 1, 'Rajasthan': 25, 'Tamil Nadu': 39, 'Uttarakhand': 5, 'Andaman & Nicobar Islands': 1, 'Chandigarh': 1, 'Dadra & Nagar Haveli': 1, 'Daman & Diu': 1, 'NCT OF Delhi': 7, 'Puducherry': 1})\n",
      "\n",
      "\n",
      "TOTAL NDA SEATS STATEWISE (FROM NDA AND UPA) ARE 335\n",
      "defaultdict(<class 'int'>, {'Andhra Pradesh': 3, 'Arunachal Pradesh': 1, 'Assam': 6, 'Bihar': 37, 'Goa': 2, 'Gujarat': 25, 'Haryana': 7, 'Himachal Pradesh': 3, 'Jammu & Kashmir': 2, 'Karnataka': 11, 'Madhya Pradesh': 25, 'Maharashtra': 41, 'Meghalaya': 1, 'Nagaland': 1, 'Odisha': 1, 'Punjab': 2, 'Rajasthan': 24, 'Tamil Nadu': 37, 'Uttar Pradesh': 71, 'West Bengal': 2, 'Chattisgarh': 7, 'Jharkhand': 11, 'Uttarakhand': 5, 'Chandigarh': 1, 'Daman & Diu': 1, 'NCT OF Delhi': 7, 'Puducherry': 1})\n",
      "\n",
      "\n",
      "TOTAL UPA SEATS STATEWISE (FROM UPA AND NDA) ARE 86\n",
      "defaultdict(<class 'int'>, {'Andhra Pradesh': 2, 'Arunachal Pradesh': 1, 'Assam': 4, 'Bihar': 3, 'Haryana': 1, 'Karnataka': 17, 'Kerala': 12, 'Madhya Pradesh': 4, 'Maharashtra': 7, 'Manipur': 2, 'Meghalaya': 1, 'Mizoram': 1, 'Punjab': 7, 'Uttar Pradesh': 4, 'West Bengal': 4, 'Chattisgarh': 4, 'Jharkhand': 3, 'Lakshadweep': 1, 'Gujarat': 1, 'Himachal Pradesh': 1, 'Jammu & Kashmir': 1, 'Rajasthan': 1, 'Tamil Nadu': 2, 'Andaman & Nicobar Islands': 1, 'Dadra & Nagar Haveli': 1})\n",
      "\n",
      "\n",
      "NDA Vote Share: 44.48017497385552 | UPA Vote Share: 31.092779462072784 in NDA/UPA winning seats\n"
     ]
    }
   ],
   "source": [
    "totalSeats = totalNDASeats2014 + totalUPASeats2014\n",
    "print(\"TOTAL SEATS (\"+str(totalSeats)+\"):\")#either won by UPA or NDA\n",
    "\n",
    "finalUpaSeats = upaSeatsFromNDA2014 + upaSeatsFromUPA2014\n",
    "finalNdaSeats = ndaSeatsFromNDA2014 + ndaSeatsFromUPA2014\n",
    "\n",
    "total2014SeatsStatewise = defaultdict(int) \n",
    "for k,v in upa2014SeatsStatewise.items():\n",
    "    total2014SeatsStatewise[k] += upa2014SeatsStatewise[k]\n",
    "for k,v in nda2014SeatsStatewise.items():\n",
    "    total2014SeatsStatewise[k] += nda2014SeatsStatewise[k] \n",
    "print(total2014SeatsStatewise)\n",
    "print(\"\\n\")\n",
    "\n",
    "print(\"TOTAL NDA SEATS STATEWISE (FROM NDA AND UPA) ARE \"+str(finalNdaSeats))\n",
    "totalNDASeatsStatewise = defaultdict(int)\n",
    "for k,v in ndaSeatsStatewiseFromNDA2014.items():\n",
    "    totalNDASeatsStatewise[k] += ndaSeatsStatewiseFromNDA2014[k]\n",
    "for k,v in ndaSeatsStatewiseFromUPA2014.items():\n",
    "    totalNDASeatsStatewise[k] += ndaSeatsStatewiseFromUPA2014[k]\n",
    "print(totalNDASeatsStatewise)\n",
    "print(\"\\n\")\n",
    "\n",
    "print(\"TOTAL UPA SEATS STATEWISE (FROM UPA AND NDA) ARE \"+str(finalUpaSeats))\n",
    "totalUPASeatsStatewise = defaultdict(int)\n",
    "for k,v in upaSeatsStatewiseFromUPA2014.items():\n",
    "    totalUPASeatsStatewise[k] += upaSeatsStatewiseFromUPA2014[k]\n",
    "for k,v in upaSeatsStatewiseFromNDA2014.items():\n",
    "    totalUPASeatsStatewise[k] += upaSeatsStatewiseFromNDA2014[k]\n",
    "print(totalUPASeatsStatewise)\n",
    "print(\"\\n\")\n",
    "\n",
    "voteShareNDA = totalNdaVotesCount/totalVotesCount*100\n",
    "voteShareUPA = totalUpaVotesCount/totalVotesCount*100\n",
    "print(\"NDA Vote Share: \"+str(voteShareNDA)+\" | UPA Vote Share: \"+str(voteShareUPA)+\" in NDA/UPA winning seats\")\n"
   ]
  },
  {
   "cell_type": "code",
   "execution_count": null,
   "metadata": {},
   "outputs": [],
   "source": []
  }
 ],
 "metadata": {
  "kernelspec": {
   "display_name": "Python 3",
   "language": "python",
   "name": "python3"
  },
  "language_info": {
   "codemirror_mode": {
    "name": "ipython",
    "version": 3
   },
   "file_extension": ".py",
   "mimetype": "text/x-python",
   "name": "python",
   "nbconvert_exporter": "python",
   "pygments_lexer": "ipython3",
   "version": "3.6.8"
  }
 },
 "nbformat": 4,
 "nbformat_minor": 2
}
